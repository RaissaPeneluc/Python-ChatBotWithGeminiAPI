{
  "nbformat": 4,
  "nbformat_minor": 0,
  "metadata": {
    "colab": {
      "provenance": [],
      "authorship_tag": "ABX9TyP+uxRtZ2HsGLnyoDPgyxjm",
      "include_colab_link": true
    },
    "kernelspec": {
      "name": "python3",
      "display_name": "Python 3"
    },
    "language_info": {
      "name": "python"
    }
  },
  "cells": [
    {
      "cell_type": "markdown",
      "metadata": {
        "id": "view-in-github",
        "colab_type": "text"
      },
      "source": [
        "<a href=\"https://colab.research.google.com/github/RaissaPeneluc/Python-ChatBotWithGeminiAPI/blob/main/SimpleChatBot.ipynb\" target=\"_parent\"><img src=\"https://colab.research.google.com/assets/colab-badge.svg\" alt=\"Open In Colab\"/></a>"
      ]
    },
    {
      "cell_type": "markdown",
      "source": [
        "Instalando o SDK do Google"
      ],
      "metadata": {
        "id": "l_FZlp95lDUr"
      }
    },
    {
      "cell_type": "code",
      "execution_count": null,
      "metadata": {
        "id": "7Gq0WPs9aKvH"
      },
      "outputs": [],
      "source": [
        "!pip install -q -U google-generativeai"
      ]
    },
    {
      "cell_type": "code",
      "source": [
        "# Importando e dando um apelido\n",
        "import google.generativeai as genai\n",
        "\n",
        "GOOGLE_API_KEY=\"ADICIONE-SUA-API-KEY\"\n",
        "\n",
        "# Fazendo a conexão da API na SDK do Google\n",
        "genai.configure(api_key=GOOGLE_API_KEY)"
      ],
      "metadata": {
        "id": "s4cCiOdilRqu"
      },
      "execution_count": null,
      "outputs": []
    },
    {
      "cell_type": "markdown",
      "source": [
        "Listar os modelos disponíveis"
      ],
      "metadata": {
        "id": "yxLjC2BhmecV"
      }
    },
    {
      "cell_type": "code",
      "source": [
        "# Passando por todos os modelos listados\n",
        "for m in genai.list_models():\n",
        "\n",
        "  # Verificando se os métodos de geração suportados pela Google tem o atributo generateContent\n",
        "  if 'generateContent' in m.supported_generation_methods:\n",
        "    print(m.name)"
      ],
      "metadata": {
        "colab": {
          "base_uri": "https://localhost:8080/",
          "height": 139
        },
        "id": "-rIdJt0GmaxK",
        "outputId": "11774c4e-626a-4293-bcaf-eb0dc6092558"
      },
      "execution_count": null,
      "outputs": [
        {
          "output_type": "stream",
          "name": "stdout",
          "text": [
            "models/gemini-1.0-pro\n",
            "models/gemini-1.0-pro-001\n",
            "models/gemini-1.0-pro-latest\n",
            "models/gemini-1.0-pro-vision-latest\n",
            "models/gemini-1.5-pro-latest\n",
            "models/gemini-pro\n",
            "models/gemini-pro-vision\n"
          ]
        }
      ]
    },
    {
      "cell_type": "markdown",
      "source": [
        "Parametrizando o modelo, criação de variáveis"
      ],
      "metadata": {
        "id": "cQIJ4Oh1ysXl"
      }
    },
    {
      "cell_type": "code",
      "source": [
        "generation_config = {\n",
        "    \"candidate_count\": 1,\n",
        "    \"temperature\": 0.5,\n",
        "}"
      ],
      "metadata": {
        "id": "AnpLWWI_xw3j"
      },
      "execution_count": null,
      "outputs": []
    },
    {
      "cell_type": "code",
      "source": [
        "safety_settings = {\n",
        "    \"HARASSMENT\": \"BLOCK_NONE\",\n",
        "    \"HATE\": \"BLOCK_NONE\",\n",
        "    \"SEXUAL\": \"BLOCK_NONE\",\n",
        "    \"DANGEROUS\": \"BLOCK_NONE\",\n",
        "}"
      ],
      "metadata": {
        "id": "m6GJpY7_yN_m"
      },
      "execution_count": null,
      "outputs": []
    },
    {
      "cell_type": "markdown",
      "source": [
        "Inicializando o modelo"
      ],
      "metadata": {
        "id": "z0fRJSyIy8es"
      }
    },
    {
      "cell_type": "code",
      "source": [
        "model = genai.GenerativeModel(model_name=\"gemini-1.0-pro\",\n",
        "                              generation_config=generation_config,\n",
        "                              safety_settings=safety_settings)"
      ],
      "metadata": {
        "id": "5gwgEMVJy-1Y"
      },
      "execution_count": null,
      "outputs": []
    },
    {
      "cell_type": "code",
      "source": [
        "response = model.generate_content(\"Vamos aprender conteúdo sobre IA. Me dê sugestões.\")\n",
        "print(response.text)"
      ],
      "metadata": {
        "colab": {
          "base_uri": "https://localhost:8080/",
          "height": 642
        },
        "id": "YmgeGkHY0BX6",
        "outputId": "23dabacd-8e43-4508-bace-9ac2beecdb28"
      },
      "execution_count": null,
      "outputs": [
        {
          "output_type": "stream",
          "name": "stdout",
          "text": [
            "**Conceitos Fundamentais**\n",
            "\n",
            "* Definição de Inteligência Artificial (IA)\n",
            "* Tipos de IA: IA estreita, IA geral e superinteligência\n",
            "* Aprendizado de máquina, aprendizado profundo e redes neurais\n",
            "* Processamento de linguagem natural (PNL) e visão computacional\n",
            "\n",
            "**Aplicações da IA**\n",
            "\n",
            "* Automação de tarefas\n",
            "* Análise preditiva e tomada de decisão\n",
            "* Otimização de processos\n",
            "* Atendimento ao cliente e chatbots\n",
            "* Reconhecimento de padrões e detecção de fraudes\n",
            "\n",
            "**Ética e Implicações Sociais**\n",
            "\n",
            "* Viés e discriminação em algoritmos de IA\n",
            "* Impacto no emprego e na economia\n",
            "* Questões de privacidade e segurança\n",
            "* Regulamentação e governança da IA\n",
            "\n",
            "**Tendências e Avanços**\n",
            "\n",
            "* Aprendizado federado e aprendizado por transferência\n",
            "* IA generativa e modelos de linguagem grandes (LLMs)\n",
            "* Inteligência artificial quântica\n",
            "* IA em robótica e veículos autônomos\n",
            "\n",
            "**Recursos de Aprendizado**\n",
            "\n",
            "* **Cursos online:** Coursera, edX, Udacity\n",
            "* **Livros:** \"Inteligência Artificial: Uma Abordagem Moderna\" por Stuart Russell e Peter Norvig, \"Aprendizado de Máquina\" por Tom Mitchell\n",
            "* **Artigos e blogs:** MIT Technology Review, The AI Journal, Towards Data Science\n",
            "* **Conferências e eventos:** NeurIPS, ICML, CVPR\n",
            "* **Comunidades online:** Reddit (r/artificial), Discord (comunidades de IA)\n"
          ]
        }
      ]
    },
    {
      "cell_type": "markdown",
      "source": [
        "Criação do Chat"
      ],
      "metadata": {
        "id": "c22YFZAN0PMX"
      }
    },
    {
      "cell_type": "code",
      "source": [
        "chat = model.start_chat(history=[])"
      ],
      "metadata": {
        "id": "d25VJ37X0Q6s"
      },
      "execution_count": null,
      "outputs": []
    },
    {
      "cell_type": "code",
      "source": [
        "# Criação de prompt para o chat\n",
        "prompt = input(\"Esperando o prompt: \")\n",
        "\n",
        "# Repete até o usuário digite fim\n",
        "while prompt != \"fim\":\n",
        "  response = chat.send_message(prompt)\n",
        "  print(\"Resposta: \", response.text, \"\\n\")\n",
        "\n",
        "  # Criação de novo prompt\n",
        "  prompt = input(\"Esperando o prompt: \")"
      ],
      "metadata": {
        "colab": {
          "base_uri": "https://localhost:8080/",
          "height": 382
        },
        "id": "Z5ozCqum0u8b",
        "outputId": "64367efe-5750-4f68-a5cf-811b9343be5a"
      },
      "execution_count": null,
      "outputs": [
        {
          "name": "stdout",
          "output_type": "stream",
          "text": [
            "Esperando o prompt: quantos paises tem na america do sul\n",
            "Resposta:  12 \n",
            "\n",
            "Esperando o prompt: qual os maiores paises desse continente\n",
            "Resposta:  * Brasil\n",
            "* Argentina\n",
            "* Peru\n",
            "* Colômbia\n",
            "* Venezuela\n",
            "* Chile\n",
            "* Bolívia\n",
            "* Equador\n",
            "* Guiana\n",
            "* Paraguai\n",
            "* Suriname\n",
            "* Uruguai \n",
            "\n",
            "Esperando o prompt: qual deles tem a maior população\n",
            "Resposta:  Brasil \n",
            "\n",
            "Esperando o prompt: fim\n"
          ]
        }
      ]
    },
    {
      "cell_type": "markdown",
      "source": [
        "Melhorando a visualização"
      ],
      "metadata": {
        "id": "93CV1Ma-3U6Z"
      }
    },
    {
      "cell_type": "code",
      "source": [
        "chat.history"
      ],
      "metadata": {
        "colab": {
          "base_uri": "https://localhost:8080/"
        },
        "id": "ijkuDviVBlfH",
        "outputId": "bbb29c78-f773-4760-96d3-0e703924f8f0"
      },
      "execution_count": null,
      "outputs": [
        {
          "output_type": "execute_result",
          "data": {
            "text/plain": [
              "[parts {\n",
              "   text: \"qual \\303\\251 capital do japao\"\n",
              " }\n",
              " role: \"user\",\n",
              " parts {\n",
              "   text: \"T\\303\\263quio\"\n",
              " }\n",
              " role: \"model\",\n",
              " parts {\n",
              "   text: \"qual \\303\\251 a comida tipica desse pais\"\n",
              " }\n",
              " role: \"user\",\n",
              " parts {\n",
              "   text: \"Sushi\"\n",
              " }\n",
              " role: \"model\",\n",
              " parts {\n",
              "   text: \" e qual a popula\\303\\247\\303\\243o dessa cidade?\"\n",
              " }\n",
              " role: \"user\",\n",
              " parts {\n",
              "   text: \"13.960.236 (2023)\"\n",
              " }\n",
              " role: \"model\",\n",
              " parts {\n",
              "   text: \"quantos paises tem na america do sul\"\n",
              " }\n",
              " role: \"user\",\n",
              " parts {\n",
              "   text: \"12\"\n",
              " }\n",
              " role: \"model\",\n",
              " parts {\n",
              "   text: \"qual os maiores paises desse continente\"\n",
              " }\n",
              " role: \"user\",\n",
              " parts {\n",
              "   text: \"* Brasil\\n* Argentina\\n* Peru\\n* Col\\303\\264mbia\\n* Venezuela\\n* Chile\\n* Bol\\303\\255via\\n* Equador\\n* Guiana\\n* Paraguai\\n* Suriname\\n* Uruguai\"\n",
              " }\n",
              " role: \"model\",\n",
              " parts {\n",
              "   text: \"qual deles tem a maior popula\\303\\247\\303\\243o\"\n",
              " }\n",
              " role: \"user\",\n",
              " parts {\n",
              "   text: \"Brasil\"\n",
              " }\n",
              " role: \"model\"]"
            ]
          },
          "metadata": {},
          "execution_count": 30
        }
      ]
    },
    {
      "cell_type": "code",
      "source": [
        "#Melhorando a visualização\n",
        "#Código disponível em https://ai.google.dev/tutorials/python_quickstart#import_packages\n",
        "import textwrap\n",
        "from IPython.display import display\n",
        "from IPython.display import Markdown\n",
        "\n",
        "def to_markdown(text):\n",
        "  text = text.replace('•', '  *')\n",
        "  return Markdown(textwrap.indent(text, '> ', predicate=lambda _: True))\n",
        "\n",
        "#Imprimindo o histórico\n",
        "for message in chat.history:\n",
        "  display(to_markdown(f'**{message.role}**: {message.parts[0].text}'))\n",
        "  print('-------------------------------------------')\n"
      ],
      "metadata": {
        "colab": {
          "base_uri": "https://localhost:8080/",
          "height": 967
        },
        "id": "el1RyliW3T1x",
        "outputId": "ddb1423b-509a-4caa-b2b7-3f2148172c37"
      },
      "execution_count": null,
      "outputs": [
        {
          "output_type": "display_data",
          "data": {
            "text/plain": [
              "<IPython.core.display.Markdown object>"
            ],
            "text/markdown": "> **user**: qual é capital do japao"
          },
          "metadata": {}
        },
        {
          "output_type": "stream",
          "name": "stdout",
          "text": [
            "-------------------------------------------\n"
          ]
        },
        {
          "output_type": "display_data",
          "data": {
            "text/plain": [
              "<IPython.core.display.Markdown object>"
            ],
            "text/markdown": "> **model**: Tóquio"
          },
          "metadata": {}
        },
        {
          "output_type": "stream",
          "name": "stdout",
          "text": [
            "-------------------------------------------\n"
          ]
        },
        {
          "output_type": "display_data",
          "data": {
            "text/plain": [
              "<IPython.core.display.Markdown object>"
            ],
            "text/markdown": "> **user**: qual é a comida tipica desse pais"
          },
          "metadata": {}
        },
        {
          "output_type": "stream",
          "name": "stdout",
          "text": [
            "-------------------------------------------\n"
          ]
        },
        {
          "output_type": "display_data",
          "data": {
            "text/plain": [
              "<IPython.core.display.Markdown object>"
            ],
            "text/markdown": "> **model**: Sushi"
          },
          "metadata": {}
        },
        {
          "output_type": "stream",
          "name": "stdout",
          "text": [
            "-------------------------------------------\n"
          ]
        },
        {
          "output_type": "display_data",
          "data": {
            "text/plain": [
              "<IPython.core.display.Markdown object>"
            ],
            "text/markdown": "> **user**:  e qual a população dessa cidade?"
          },
          "metadata": {}
        },
        {
          "output_type": "stream",
          "name": "stdout",
          "text": [
            "-------------------------------------------\n"
          ]
        },
        {
          "output_type": "display_data",
          "data": {
            "text/plain": [
              "<IPython.core.display.Markdown object>"
            ],
            "text/markdown": "> **model**: 13.960.236 (2023)"
          },
          "metadata": {}
        },
        {
          "output_type": "stream",
          "name": "stdout",
          "text": [
            "-------------------------------------------\n"
          ]
        },
        {
          "output_type": "display_data",
          "data": {
            "text/plain": [
              "<IPython.core.display.Markdown object>"
            ],
            "text/markdown": "> **user**: quantos paises tem na america do sul"
          },
          "metadata": {}
        },
        {
          "output_type": "stream",
          "name": "stdout",
          "text": [
            "-------------------------------------------\n"
          ]
        },
        {
          "output_type": "display_data",
          "data": {
            "text/plain": [
              "<IPython.core.display.Markdown object>"
            ],
            "text/markdown": "> **model**: 12"
          },
          "metadata": {}
        },
        {
          "output_type": "stream",
          "name": "stdout",
          "text": [
            "-------------------------------------------\n"
          ]
        },
        {
          "output_type": "display_data",
          "data": {
            "text/plain": [
              "<IPython.core.display.Markdown object>"
            ],
            "text/markdown": "> **user**: qual os maiores paises desse continente"
          },
          "metadata": {}
        },
        {
          "output_type": "stream",
          "name": "stdout",
          "text": [
            "-------------------------------------------\n"
          ]
        },
        {
          "output_type": "display_data",
          "data": {
            "text/plain": [
              "<IPython.core.display.Markdown object>"
            ],
            "text/markdown": "> **model**: * Brasil\n> * Argentina\n> * Peru\n> * Colômbia\n> * Venezuela\n> * Chile\n> * Bolívia\n> * Equador\n> * Guiana\n> * Paraguai\n> * Suriname\n> * Uruguai"
          },
          "metadata": {}
        },
        {
          "output_type": "stream",
          "name": "stdout",
          "text": [
            "-------------------------------------------\n"
          ]
        },
        {
          "output_type": "display_data",
          "data": {
            "text/plain": [
              "<IPython.core.display.Markdown object>"
            ],
            "text/markdown": "> **user**: qual deles tem a maior população"
          },
          "metadata": {}
        },
        {
          "output_type": "stream",
          "name": "stdout",
          "text": [
            "-------------------------------------------\n"
          ]
        },
        {
          "output_type": "display_data",
          "data": {
            "text/plain": [
              "<IPython.core.display.Markdown object>"
            ],
            "text/markdown": "> **model**: Brasil"
          },
          "metadata": {}
        },
        {
          "output_type": "stream",
          "name": "stdout",
          "text": [
            "-------------------------------------------\n"
          ]
        }
      ]
    },
    {
      "cell_type": "code",
      "source": [],
      "metadata": {
        "id": "ZBWOISDP3pkv"
      },
      "execution_count": null,
      "outputs": []
    }
  ]
}